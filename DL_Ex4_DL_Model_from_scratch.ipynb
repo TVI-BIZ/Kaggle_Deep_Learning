{
  "cells": [
    {
      "metadata": {
        "_uuid": "46f96bc19ede8506425c45c9f3061785ab8cafa1"
      },
      "cell_type": "markdown",
      "source": "# Introduction\n\nYou've seen how to build a model from scratch to identify handwritten digits.  You'll now build a model to identify different types of clothing.  To make models that train quickly, we'll work with very small (low-resolution) images. \n\nAs an example, your model will take an images like this and identify it as a shoe:\n\n![Imgur](https://i.imgur.com/GyXOnSB.png)"
    },
    {
      "metadata": {
        "_uuid": "4eb9238490e0652acd0043d5e94b620e617755bf"
      },
      "cell_type": "markdown",
      "source": "# Data Preparation\nThis code is supplied, and you don't need to change it. Just run the cell below."
    },
    {
      "metadata": {
        "_uuid": "80442190e2f0cd9c2263a4408cd82d3959a6a730",
        "trusted": true
      },
      "cell_type": "code",
      "source": "import numpy as np\nfrom sklearn.model_selection import train_test_split\nfrom tensorflow import keras\n\nimg_rows, img_cols = 28, 28\nnum_classes = 10\n\ndef prep_data(raw):\n    y = raw[:, 0]\n    out_y = keras.utils.to_categorical(y, num_classes)\n    \n    x = raw[:,1:]\n    num_images = raw.shape[0]\n    out_x = x.reshape(num_images, img_rows, img_cols, 1)\n    out_x = out_x / 255\n    return out_x, out_y\n\nfashion_file = \"../input/fashionmnist/fashion-mnist_train.csv\"\nfashion_data = np.loadtxt(fashion_file, skiprows=1, delimiter=',')\nx, y = prep_data(fashion_data)\n\n# Set up code checking\nfrom learntools.core import binder\nbinder.bind(globals())\nfrom learntools.deep_learning.exercise_7 import *\nprint(\"Setup Complete\")",
      "execution_count": null,
      "outputs": []
    },
    {
      "metadata": {
        "_uuid": "65e2232dc9a14c6e0be9d2dad427f33b65418857"
      },
      "cell_type": "markdown",
      "source": "# 1) Start the model\nCreate a `Sequential` model called `fashion_model`. Don't add layers yet."
    },
    {
      "metadata": {
        "_uuid": "23d8d3d595cde9aa0cd0d947700d311c213e13eb",
        "trusted": true
      },
      "cell_type": "code",
      "source": "from tensorflow import keras\nfrom tensorflow.keras.models import Sequential\nfrom tensorflow.keras.layers import Dense, Flatten, Conv2D\n\n# Your Code Here\nfashion_model = Sequential()\n\nq_1.check()",
      "execution_count": null,
      "outputs": []
    },
    {
      "metadata": {
        "_uuid": "5391745733ed76055c86217b5a5d235184f87a37",
        "trusted": false
      },
      "cell_type": "code",
      "source": "#q_1.solution()",
      "execution_count": null,
      "outputs": []
    },
    {
      "metadata": {
        "_uuid": "a424ad1ed86ec72e70a0ac3cc98751e5b4da7a50"
      },
      "cell_type": "markdown",
      "source": "# 2) Add the first layer\n\nAdd the first `Conv2D` layer to `fashion_model`. It should have 12 filters, a kernel_size of 3 and the `relu` activation function. The first layer always requires that you specify the `input_shape`.  We have saved the number of rows and columns to the variables `img_rows` and `img_cols` respectively, so the input shape in this case is `(img_rows, img_cols, 1)`."
    },
    {
      "metadata": {
        "_uuid": "b85c040712c78f38f6a0b757df9f59b6d34e405e",
        "trusted": true
      },
      "cell_type": "code",
      "source": "fashion_model.add(Conv2D(12,kernel_size=3, activation='relu',input_shape=(img_rows,img_cols,1)))\nq_2.check()\n# q_2.hint()\n#q_2.solution()",
      "execution_count": 20,
      "outputs": [
        {
          "output_type": "display_data",
          "data": {
            "text/plain": "<IPython.core.display.Javascript object>",
            "application/javascript": "parent.postMessage({\"jupyterEvent\": \"custom.exercise_interaction\", \"data\": {\"outcomeType\": 1, \"valueTowardsCompletion\": 0.16666666666666666, \"interactionType\": 1, \"learnTutorialId\": 91, \"questionId\": \"2_AddFirstLayer\", \"learnToolsVersion\": \"0.2.11\", \"failureMessage\": \"\", \"exceptionClass\": \"\", \"trace\": \"\"}}, \"*\")"
          },
          "metadata": {}
        },
        {
          "output_type": "display_data",
          "data": {
            "text/plain": "Correct",
            "text/markdown": "<span style=\"color:#33cc33\">Correct</span>"
          },
          "metadata": {}
        }
      ]
    },
    {
      "metadata": {
        "_uuid": "6ff9d9967cb365daa55fafcc8e5fba16dd0d931e"
      },
      "cell_type": "markdown",
      "source": "# 3) Add the remaining layers\n\n1. Add 2 more convolutional (`Conv2D layers`) with 20 filters each, 'relu' activation, and a kernel size of 3. Follow that with a `Flatten` layer, and then a `Dense` layer with 100 neurons. \n2. Add your prediction layer to `fashion_model`.  This is a `Dense` layer.  We alrady have a variable called `num_classes`.  Use this variable when specifying the number of nodes in this layer. The activation should be `softmax` (or you will have problems later)."
    },
    {
      "metadata": {
        "_uuid": "198c4716aef95810dc6ffbbffbd143f40e34ec0f",
        "trusted": true
      },
      "cell_type": "code",
      "source": "# Your code here\nfashion_model.add(Conv2D(20,kernel_size=3, activation='relu'))\nfashion_model.add(Conv2D(20,kernel_size=3, activation='relu'))\nfashion_model.add(Flatten())\nfashion_model.add(Dense(100))\nfashion_model.add(Dense(num_classes, activation='softmax'))\n\nq_3.check()",
      "execution_count": 21,
      "outputs": [
        {
          "output_type": "display_data",
          "data": {
            "text/plain": "<IPython.core.display.Javascript object>",
            "application/javascript": "parent.postMessage({\"jupyterEvent\": \"custom.exercise_interaction\", \"data\": {\"outcomeType\": 1, \"valueTowardsCompletion\": 0.16666666666666666, \"interactionType\": 1, \"learnTutorialId\": 91, \"questionId\": \"3_AddMoreLayers\", \"learnToolsVersion\": \"0.2.11\", \"failureMessage\": \"\", \"exceptionClass\": \"\", \"trace\": \"\"}}, \"*\")"
          },
          "metadata": {}
        },
        {
          "output_type": "display_data",
          "data": {
            "text/plain": "Correct",
            "text/markdown": "<span style=\"color:#33cc33\">Correct</span>"
          },
          "metadata": {}
        }
      ]
    },
    {
      "metadata": {
        "_uuid": "99314c00b55e6edf45634f2656f2b6f1e3effeef",
        "trusted": false
      },
      "cell_type": "code",
      "source": "# q_3.solution()",
      "execution_count": null,
      "outputs": []
    },
    {
      "metadata": {
        "_uuid": "c7795a9489638be73ec3092f8280559b7ced37f6"
      },
      "cell_type": "markdown",
      "source": "# 4) Compile Your Model\nCompile fashion_model with the `compile` method.  Specify the following arguments:\n1. `loss = \"categorical_crossentropy\"`\n2. `optimizer = 'adam'`\n3. `metrics = ['accuracy']`"
    },
    {
      "metadata": {
        "_uuid": "5cdea658ef438ae4148a93d0ae77b996a75b622a",
        "trusted": true
      },
      "cell_type": "code",
      "source": "# Your code to compile the model in this cell\nfashion_model.compile(loss='categorical_crossentropy', optimizer='adam', metrics=['accuracy'])\nq_4.check()",
      "execution_count": 22,
      "outputs": [
        {
          "output_type": "display_data",
          "data": {
            "text/plain": "<IPython.core.display.Javascript object>",
            "application/javascript": "parent.postMessage({\"jupyterEvent\": \"custom.exercise_interaction\", \"data\": {\"outcomeType\": 1, \"valueTowardsCompletion\": 0.16666666666666666, \"interactionType\": 1, \"learnTutorialId\": 91, \"questionId\": \"4_CompileModel\", \"learnToolsVersion\": \"0.2.11\", \"failureMessage\": \"\", \"exceptionClass\": \"\", \"trace\": \"\"}}, \"*\")"
          },
          "metadata": {}
        },
        {
          "output_type": "display_data",
          "data": {
            "text/plain": "Correct",
            "text/markdown": "<span style=\"color:#33cc33\">Correct</span>"
          },
          "metadata": {}
        }
      ]
    },
    {
      "metadata": {
        "_uuid": "9caaa4c9e684b133e41867ede2292bc8032b2a06",
        "trusted": false
      },
      "cell_type": "code",
      "source": "# q_4.solution()",
      "execution_count": null,
      "outputs": []
    },
    {
      "metadata": {
        "_uuid": "d10a3c2c65513403e039e93c284f3b488a473f8d"
      },
      "cell_type": "markdown",
      "source": "# 5) Fit The Model\nRun the command `fashion_model.fit`. The arguments you will use are\n1. The data used to fit the model. First comes the data holding the images, and second is the data with the class labels to be predicted. Look at the first code cell (which was supplied to you) where we called `prep_data` to find the variable names for these.\n2. `batch_size = 100`\n3. `epochs = 4`\n4. `validation_split = 0.2`\n\nWhen you run this command, you can watch your model start improving.  You will see validation accuracies after each epoch."
    },
    {
      "metadata": {
        "_uuid": "c85bfb953b2a25bdcd316d6880ef35cbc711f17f",
        "trusted": true
      },
      "cell_type": "code",
      "source": "# Your code to fit the model here\nfashion_model.fit(x,y, batch_size=100, epochs=4, validation_split=0.2)\nq_5.check()",
      "execution_count": 23,
      "outputs": [
        {
          "output_type": "stream",
          "text": "Train on 48000 samples, validate on 12000 samples\nEpoch 1/4\n48000/48000 [==============================] - 8s 160us/step - loss: 0.4552 - acc: 0.8386 - val_loss: 0.3459 - val_acc: 0.8808\nEpoch 2/4\n48000/48000 [==============================] - 6s 115us/step - loss: 0.2966 - acc: 0.8918 - val_loss: 0.2956 - val_acc: 0.8968\nEpoch 3/4\n48000/48000 [==============================] - 6s 115us/step - loss: 0.2492 - acc: 0.9089 - val_loss: 0.2801 - val_acc: 0.9014\nEpoch 4/4\n48000/48000 [==============================] - 6s 115us/step - loss: 0.2167 - acc: 0.9206 - val_loss: 0.2799 - val_acc: 0.9046\n",
          "name": "stdout"
        },
        {
          "output_type": "display_data",
          "data": {
            "text/plain": "<IPython.core.display.Javascript object>",
            "application/javascript": "parent.postMessage({\"jupyterEvent\": \"custom.exercise_interaction\", \"data\": {\"outcomeType\": 1, \"valueTowardsCompletion\": 0.16666666666666666, \"interactionType\": 1, \"learnTutorialId\": 91, \"questionId\": \"5_FitFullDLModel\", \"learnToolsVersion\": \"0.2.11\", \"failureMessage\": \"\", \"exceptionClass\": \"\", \"trace\": \"\"}}, \"*\")"
          },
          "metadata": {}
        },
        {
          "output_type": "display_data",
          "data": {
            "text/plain": "Correct",
            "text/markdown": "<span style=\"color:#33cc33\">Correct</span>"
          },
          "metadata": {}
        }
      ]
    },
    {
      "metadata": {
        "_uuid": "cfdd9c8c7ab9587ea8fee47ea24ba85958bd698c",
        "trusted": false
      },
      "cell_type": "code",
      "source": "#q_5.solution()",
      "execution_count": null,
      "outputs": []
    },
    {
      "metadata": {
        "_uuid": "c31a3a368dc3922c66699c1f6268838a2e4ef273"
      },
      "cell_type": "markdown",
      "source": "# 6) Create A New Model\n\nCreate a new model called `second_fashion_model` in the cell below.  Make some changes so it is different than `fashion_model` that you've trained above. The change could be using a different number of layers, different number of convolutions in the layers, etc.\n\nDefine the model, compile it and fit it in the cell below.  See how it's validation score compares to that of the original model."
    },
    {
      "metadata": {
        "_uuid": "6346864b24af50eda89e4deb564cd02b80fe83b4",
        "trusted": true
      },
      "cell_type": "code",
      "source": "# Your code below\nsecond_fashion_model = Sequential()\nsecond_fashion_model.add(Conv2D(12,kernel_size=3, activation='relu',input_shape=(img_rows,img_cols,1)))\nsecond_fashion_model.add(Conv2D(20,kernel_size=3, activation='relu'))\nsecond_fashion_model.add(Conv2D(20,kernel_size=3, activation='relu'))\nsecond_fashion_model.add(Conv2D(30,kernel_size=3, activation='relu'))\nsecond_fashion_model.add(Conv2D(40,kernel_size=3, activation='relu'))\nsecond_fashion_model.add(Flatten())\nsecond_fashion_model.add(Dense(500))\nsecond_fashion_model.add(Dense(num_classes, activation='softmax'))\n\nsecond_fashion_model.compile(loss='categorical_crossentropy', optimizer='adam', metrics=['accuracy'])\nsecond_fashion_model.fit(x,y, batch_size=100, epochs=6, validation_split=0.15)\n\nq_6.check()",
      "execution_count": 25,
      "outputs": [
        {
          "output_type": "stream",
          "text": "Train on 51000 samples, validate on 9000 samples\nEpoch 1/6\n51000/51000 [==============================] - 14s 283us/step - loss: 0.4772 - acc: 0.8253 - val_loss: 0.3572 - val_acc: 0.8726\nEpoch 2/6\n51000/51000 [==============================] - 13s 259us/step - loss: 0.3046 - acc: 0.8896 - val_loss: 0.2894 - val_acc: 0.8989\nEpoch 3/6\n51000/51000 [==============================] - 13s 259us/step - loss: 0.2522 - acc: 0.9078 - val_loss: 0.2641 - val_acc: 0.9057\nEpoch 4/6\n51000/51000 [==============================] - 13s 259us/step - loss: 0.2178 - acc: 0.9216 - val_loss: 0.2652 - val_acc: 0.9059\nEpoch 5/6\n51000/51000 [==============================] - 13s 259us/step - loss: 0.1842 - acc: 0.9323 - val_loss: 0.2846 - val_acc: 0.9033\nEpoch 6/6\n51000/51000 [==============================] - 13s 259us/step - loss: 0.1587 - acc: 0.9419 - val_loss: 0.3076 - val_acc: 0.8956\nModel summary from second_fashion_model.summary()\n_________________________________________________________________\nLayer (type)                 Output Shape              Param #   \n=================================================================\nconv2d_22 (Conv2D)           (None, 26, 26, 12)        120       \n_________________________________________________________________\nconv2d_23 (Conv2D)           (None, 24, 24, 20)        2180      \n_________________________________________________________________\nconv2d_24 (Conv2D)           (None, 22, 22, 20)        3620      \n_________________________________________________________________\nconv2d_25 (Conv2D)           (None, 20, 20, 30)        5430      \n_________________________________________________________________\nconv2d_26 (Conv2D)           (None, 18, 18, 40)        10840     \n_________________________________________________________________\nflatten_2 (Flatten)          (None, 12960)             0         \n_________________________________________________________________\ndense_4 (Dense)              (None, 500)               6480500   \n_________________________________________________________________\ndense_5 (Dense)              (None, 10)                5010      \n=================================================================\nTotal params: 6,507,700\nTrainable params: 6,507,700\nNon-trainable params: 0\n_________________________________________________________________\nNone\n",
          "name": "stdout"
        },
        {
          "output_type": "display_data",
          "data": {
            "text/plain": "<IPython.core.display.Javascript object>",
            "application/javascript": "parent.postMessage({\"jupyterEvent\": \"custom.exercise_interaction\", \"data\": {\"outcomeType\": 1, \"valueTowardsCompletion\": 0.16666666666666666, \"interactionType\": 1, \"learnTutorialId\": 91, \"questionId\": \"6_CreateNewDLModelFromScratch\", \"learnToolsVersion\": \"0.2.11\", \"failureMessage\": \"\", \"exceptionClass\": \"\", \"trace\": \"\"}}, \"*\")"
          },
          "metadata": {}
        },
        {
          "output_type": "display_data",
          "data": {
            "text/plain": "Correct",
            "text/markdown": "<span style=\"color:#33cc33\">Correct</span>"
          },
          "metadata": {}
        }
      ]
    },
    {
      "metadata": {
        "_uuid": "e05e074849c4ac14707c0042288a42f539c753cc",
        "trusted": false
      },
      "cell_type": "code",
      "source": "#q_6.solution()",
      "execution_count": null,
      "outputs": []
    },
    {
      "metadata": {
        "_uuid": "86be393956d872def0a2d880959beb6c36d51faf"
      },
      "cell_type": "markdown",
      "source": "# Keep Going\nYou are ready to learn about **[strides and dropout](https://www.kaggle.com/dansbecker/dropout-and-strides-for-larger-models)**, which become important as you start using bigger and more powerful models.\n\n---\n**[Deep Learning Course Home Page](https://www.kaggle.com/learn/deep-learning)**\n"
    }
  ],
  "metadata": {
    "kernelspec": {
      "display_name": "Python 3",
      "language": "python",
      "name": "python3"
    },
    "language_info": {
      "name": "python",
      "version": "3.6.6",
      "mimetype": "text/x-python",
      "codemirror_mode": {
        "name": "ipython",
        "version": 3
      },
      "pygments_lexer": "ipython3",
      "nbconvert_exporter": "python",
      "file_extension": ".py"
    }
  },
  "nbformat": 4,
  "nbformat_minor": 1
}