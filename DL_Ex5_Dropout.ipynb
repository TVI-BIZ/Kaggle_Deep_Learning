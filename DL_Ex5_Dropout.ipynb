{
  "cells": [
    {
      "metadata": {
        "_uuid": "2526a93796c935888bddfb80d67241ed41d928e7"
      },
      "cell_type": "markdown",
      "source": "# Introduction\n\nYou've built a model to identify clothing types in the **MNIST for Fashion** dataset.  Now you will make your model bigger, specify larger stride lengths and apply dropout. These changes will make your model faster and more accurate.\n\nThis is a last step in the **[Deep Learning Track](https://www.kaggle.com/learn/deep-learning)**.\n\n\n## Data Preparation\n**Run this cell of code.**\n"
    },
    {
      "metadata": {
        "_uuid": "4276d39253683b7fc76a558bdc9382baf51e3814",
        "trusted": true
      },
      "cell_type": "code",
      "source": "import numpy as np\nfrom sklearn.model_selection import train_test_split\nfrom tensorflow import keras\n\n# Set up code checking\nfrom learntools.core import binder\nbinder.bind(globals())\nfrom learntools.deep_learning.exercise_8 import *\nprint(\"Setup Complete\")\n\nimg_rows, img_cols = 28, 28\nnum_classes = 10\n\ndef prep_data(raw):\n    y = raw[:, 0]\n    out_y = keras.utils.to_categorical(y, num_classes)\n    \n    x = raw[:,1:]\n    num_images = raw.shape[0]\n    out_x = x.reshape(num_images, img_rows, img_cols, 1)\n    out_x = out_x / 255\n    return out_x, out_y\n\nfashion_file = \"../input/fashionmnist/fashion-mnist_train.csv\"\nfashion_data = np.loadtxt(fashion_file, skiprows=1, delimiter=',')\nx, y = prep_data(fashion_data)",
      "execution_count": 1,
      "outputs": [
        {
          "output_type": "stream",
          "text": "Setup Complete\n",
          "name": "stdout"
        }
      ]
    },
    {
      "metadata": {
        "_uuid": "344da7620aa3c129a90d7b5118f03165a9e14937"
      },
      "cell_type": "markdown",
      "source": "# 1) Increasing Stride Size in A Layer\n\nBelow is a model without strides (or more accurately, with a stride length of 1)\n\nRun it. Notice it's accuracy and how long it takes per epoch. Then you will change the stride length in one of the layers."
    },
    {
      "metadata": {
        "_uuid": "f5a03e37c0482159e27a65834987e9d6af4c77ff",
        "trusted": true
      },
      "cell_type": "code",
      "source": "from tensorflow.keras.models import Sequential\nfrom tensorflow.keras.layers import Dense, Flatten, Conv2D, Dropout\n\nbatch_size = 16\n\nfashion_model = Sequential()\nfashion_model.add(Conv2D(16, kernel_size=(3, 3),\n                 activation='relu',\n                 input_shape=(img_rows, img_cols, 1)))\nfashion_model.add(Conv2D(16, (3, 3), activation='relu'))\nfashion_model.add(Flatten())\nfashion_model.add(Dense(128, activation='relu'))\nfashion_model.add(Dense(num_classes, activation='softmax'))\n\nfashion_model.compile(loss=keras.losses.categorical_crossentropy,\n              optimizer='adam',\n              metrics=['accuracy'])\n\nfashion_model.fit(x, y,\n          batch_size=batch_size,\n          epochs=3,\n          validation_split = 0.2)\n",
      "execution_count": 7,
      "outputs": [
        {
          "output_type": "stream",
          "text": "Train on 48000 samples, validate on 12000 samples\nEpoch 1/3\n48000/48000 [==============================] - 24s 501us/step - loss: 0.3969 - acc: 0.8580 - val_loss: 0.3022 - val_acc: 0.8903\nEpoch 2/3\n48000/48000 [==============================] - 23s 483us/step - loss: 0.2498 - acc: 0.9082 - val_loss: 0.2744 - val_acc: 0.9018\nEpoch 3/3\n48000/48000 [==============================] - 23s 484us/step - loss: 0.1845 - acc: 0.9310 - val_loss: 0.2660 - val_acc: 0.9080\n",
          "name": "stdout"
        },
        {
          "output_type": "execute_result",
          "execution_count": 7,
          "data": {
            "text/plain": "<tensorflow.python.keras.callbacks.History at 0x7f3a3cfb0d68>"
          },
          "metadata": {}
        }
      ]
    },
    {
      "metadata": {
        "_uuid": "613930b5d654e91bdb16ff5f7d3707145d8fcef5"
      },
      "cell_type": "markdown",
      "source": "You have the same code in the cell below, but the model is now called `fashion_model_1`.  Change the specification of `fashion_model_1` so the second convolutional layer has a stride length of 2.\n\nRun the cell after you have done that. How does the speed and accuracy change compared to the first model you ran above?"
    },
    {
      "metadata": {
        "_uuid": "01a59d7497bd09f76ae25bec855d656cd266713c",
        "trusted": true
      },
      "cell_type": "code",
      "source": "fashion_model_1 = Sequential()\nfashion_model_1.add(Conv2D(16, kernel_size=(3, 3),\n                 activation='relu',\n                 input_shape=(img_rows, img_cols, 1)))\nfashion_model_1.add(Conv2D(16, (3, 3), activation='relu', strides=2))\nfashion_model_1.add(Flatten())\nfashion_model_1.add(Dense(128, activation='relu'))\nfashion_model_1.add(Dense(num_classes, activation='softmax'))\n\nfashion_model_1.compile(loss=keras.losses.categorical_crossentropy,\n              optimizer='adam',\n              metrics=['accuracy'])\n\nfashion_model_1.fit(x, y,\n          batch_size=batch_size,\n          epochs=3,\n          validation_split = 0.2)\nq_1.check()",
      "execution_count": null,
      "outputs": [
        {
          "output_type": "stream",
          "text": "Train on 48000 samples, validate on 12000 samples\nEpoch 1/3\n",
          "name": "stdout"
        }
      ]
    },
    {
      "metadata": {
        "_uuid": "bde9dd92489452a9745fe92d4148523e3729de66"
      },
      "cell_type": "markdown",
      "source": "For the solution, uncomment and run the cell below:"
    },
    {
      "metadata": {
        "_uuid": "ccd5771e47c4791740d1e12b6a6a0c41a4e3c7ed",
        "trusted": false
      },
      "cell_type": "code",
      "source": "#q_1.solution()",
      "execution_count": null,
      "outputs": []
    },
    {
      "metadata": {
        "_uuid": "7f2349a2039f194a770e2156778394e13f02ccd2"
      },
      "cell_type": "markdown",
      "source": "You should notice that your model training ran about twice as fast, but the accuracy change was trivial.  \n\nIn addition to being faster to train, this model is also faster at making predictions. This is very important in many scenarios. In practice, you'll need to decide whether that type of speed is important in the applications where you eventually apply deep learning models.\n\nYou could experiment with more layers or more convolutions in each layer. With some fine-tuning, you can build a model that is both faster and more accurate than the original model."
    },
    {
      "metadata": {
        "_uuid": "07ef3a3b0e33fd0c2191da1123ac9c3decaad702"
      },
      "cell_type": "markdown",
      "source": "# Congrats\nYou've finished the Deep Learning course.  You have the tools to create and tune computer vision models.  \n\nIf you feel like playing more with this dataset, you can open up a new code cell to experiment with different models (adding dropout, adding layers, etc.)  Or pick a new project and try out your skills.  \n\nA few fun datasets you might try include:\n- [Written letter recognition](https://www.kaggle.com/olgabelitskaya/classification-of-handwritten-letters)\n- [Flower Identification](https://www.kaggle.com/alxmamaev/flowers-recognition)\n- [Cats vs Dogs](https://www.kaggle.com/c/dogs-vs-cats-redux-kernels-edition)\n- [10 Monkeys](https://www.kaggle.com/slothkong/10-monkey-species)\n- [Predict Bone Age from X-Rays](https://www.kaggle.com/kmader/rsna-bone-age)\n\nYou have learned a lot, and you'll learn it as you practice. Have fun with it!"
    }
  ],
  "metadata": {
    "kernelspec": {
      "display_name": "Python 3",
      "language": "python",
      "name": "python3"
    },
    "language_info": {
      "name": "python",
      "version": "3.6.6",
      "mimetype": "text/x-python",
      "codemirror_mode": {
        "name": "ipython",
        "version": 3
      },
      "pygments_lexer": "ipython3",
      "nbconvert_exporter": "python",
      "file_extension": ".py"
    }
  },
  "nbformat": 4,
  "nbformat_minor": 1
}