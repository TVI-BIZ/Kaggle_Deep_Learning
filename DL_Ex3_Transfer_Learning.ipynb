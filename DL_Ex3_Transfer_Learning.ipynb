{
  "cells": [
    {
      "metadata": {
        "_uuid": "8c21199e760d18fbe512f9735cb2d57ee26ff617"
      },
      "cell_type": "markdown",
      "source": "# Exercise Introduction\n\nThe cameraman who shot our deep learning videos mentioned a problem that we can solve with deep learning.  \n\nHe offers a service that scans photographs to store them digitally.  He uses a machine that quickly scans many photos. But depending on the orientation of the original photo, many images are digitized sideways.  He fixes these manually, looking at each photo to determine which ones to rotate.\n\nIn this exercise, you will build a model that distinguishes which photos are sideways and which are upright, so an app could automatically rotate each image if necessary.\n\nIf you were going to sell this service commercially, you might use a large dataset to train the model. But you'll have great success with even a small dataset.  You'll work with a small dataset of dog pictures, half of which are rotated sideways.\n\nSpecifying and compiling the model look the same as in the example you've seen. But you'll need to make some changes to fit the model.\n\n**Run the following cell to set up automatic feedback.**"
    },
    {
      "metadata": {
        "_uuid": "053af6ffc204e4c06dc42bd3387d1529afc0be61",
        "trusted": true
      },
      "cell_type": "code",
      "source": "# Set up code checking\nfrom learntools.core import binder\nbinder.bind(globals())\nfrom learntools.deep_learning.exercise_4 import *\nprint(\"Setup Complete\")",
      "execution_count": 1,
      "outputs": [
        {
          "output_type": "stream",
          "text": "Setup Complete\n",
          "name": "stdout"
        }
      ]
    },
    {
      "metadata": {
        "_uuid": "395eba032790087aa07ab488f562310aeb747fdf"
      },
      "cell_type": "markdown",
      "source": "# 1) Specify the Model\n\nSince this is your first time, we'll provide some starter code for you to modify. You will probably copy and modify code the first few times you work on your own projects.\n\nThere are some important parts left blank in the following code.\n\nFill in the blanks (marked with `____`) and run the cell\n"
    },
    {
      "metadata": {
        "tags": [
          "raises-exception"
        ],
        "_uuid": "78361ca7e56f885ff9c717cda94a84f358f38324",
        "trusted": true
      },
      "cell_type": "code",
      "source": "from tensorflow.keras.applications import ResNet50\nfrom tensorflow.keras.models import Sequential\nfrom tensorflow.keras.layers import Dense, Flatten, GlobalAveragePooling2D\n\nnum_classes = 2\nresnet_weights_path = '../input/resnet50/resnet50_weights_tf_dim_ordering_tf_kernels_notop.h5'\n\nmy_new_model = Sequential()\nmy_new_model.add(ResNet50(include_top=False, pooling='avg', weights=resnet_weights_path))\nmy_new_model.add(Dense(num_classes, activation='softmax'))\n\n# Indicate whether the first layer should be trained/changed or not.\nmy_new_model.layers[0].trainable = False\n\nstep_1.check()",
      "execution_count": 4,
      "outputs": [
        {
          "output_type": "display_data",
          "data": {
            "text/plain": "<IPython.core.display.Javascript object>",
            "application/javascript": "parent.postMessage({\"jupyterEvent\": \"custom.exercise_interaction\", \"data\": {\"outcomeType\": 1, \"valueTowardsCompletion\": 0.5, \"interactionType\": 1, \"learnTutorialId\": 76, \"questionId\": \"1_SetTraininableAndNumClasses\", \"learnToolsVersion\": \"0.2.11\", \"failureMessage\": \"\", \"exceptionClass\": \"\", \"trace\": \"\"}}, \"*\")"
          },
          "metadata": {}
        },
        {
          "output_type": "display_data",
          "data": {
            "text/plain": "Correct",
            "text/markdown": "<span style=\"color:#33cc33\">Correct</span>"
          },
          "metadata": {}
        }
      ]
    },
    {
      "metadata": {
        "_uuid": "2c58712ad79cbb87e2e0842ee9b882dd1d4d2bad",
        "trusted": false
      },
      "cell_type": "code",
      "source": "#step_1.hint()\n# step_1.solution()",
      "execution_count": null,
      "outputs": []
    },
    {
      "metadata": {
        "_uuid": "158b2a56f4fadb3128a1bfda25d36027ac6913b0"
      },
      "cell_type": "markdown",
      "source": "# 2) Compile the Model\n\nYou now compile the model with the following line.  Run this cell."
    },
    {
      "metadata": {
        "_uuid": "73d078fc9058822d25979443018620590c5d7162",
        "trusted": true
      },
      "cell_type": "code",
      "source": "my_new_model.compile(optimizer='sgd', \n                     loss='categorical_crossentropy', \n                     metrics=['accuracy'])",
      "execution_count": 6,
      "outputs": []
    },
    {
      "metadata": {
        "_uuid": "9e4970a7ab34a7e3c9c487aad43968f77479ec0f"
      },
      "cell_type": "markdown",
      "source": "That ran nearly instantaneously.  Deep learning models have a reputation for being computationally demanding.  Why did that run so quickly?\n\nAfter thinking about this, check your answer by uncommenting the cell below."
    },
    {
      "metadata": {
        "_uuid": "eb8be52dae0434a4b70adb3e87338489b3992b8c",
        "trusted": true
      },
      "cell_type": "code",
      "source": "step_2.solution()",
      "execution_count": 7,
      "outputs": [
        {
          "output_type": "display_data",
          "data": {
            "text/plain": "<IPython.core.display.Javascript object>",
            "application/javascript": "parent.postMessage({\"jupyterEvent\": \"custom.exercise_interaction\", \"data\": {\"interactionType\": 3, \"learnTutorialId\": 76, \"questionId\": \"2_CompileTransferLearningModel\", \"learnToolsVersion\": \"0.2.11\", \"valueTowardsCompletion\": 0.0, \"failureMessage\": \"\", \"exceptionClass\": \"\", \"trace\": \"\", \"outcomeType\": 4}}, \"*\")"
          },
          "metadata": {}
        },
        {
          "output_type": "display_data",
          "data": {
            "text/plain": "Solution: \nThe compile model doesn't change the values in any convolutions.  In fact, your model has not even \nreceived an argument with data yet.  Compile specifies how your model will make updates a later \n`fit` step where it receives data.  That is the part that will take longer.",
            "text/markdown": "<span style=\"color:#33cc99\">Solution:</span> \nThe compile model doesn't change the values in any convolutions.  In fact, your model has not even \nreceived an argument with data yet.  Compile specifies how your model will make updates a later \n`fit` step where it receives data.  That is the part that will take longer.\n"
          },
          "metadata": {}
        }
      ]
    },
    {
      "metadata": {
        "_uuid": "d568265dd39952a848e00601b929572b01ed56fb"
      },
      "cell_type": "markdown",
      "source": "# 3) Review the Compile Step\nYou provided three arguments in the compile step.  \n- optimizer\n- loss\n- metrics\n\nWhich arguments could affect the accuracy of the predictions that come out of the model?  After you have your answer, run the cell below to see the solution."
    },
    {
      "metadata": {
        "_uuid": "958892bf37ab45aa32a3b07d4b78443b9377e61b",
        "trusted": true
      },
      "cell_type": "code",
      "source": "step_3.solution()",
      "execution_count": 8,
      "outputs": [
        {
          "output_type": "display_data",
          "data": {
            "text/plain": "<IPython.core.display.Javascript object>",
            "application/javascript": "parent.postMessage({\"jupyterEvent\": \"custom.exercise_interaction\", \"data\": {\"interactionType\": 3, \"learnTutorialId\": 76, \"questionId\": \"3_WhatCompileArgsAffectModel\", \"learnToolsVersion\": \"0.2.11\", \"valueTowardsCompletion\": 0.0, \"failureMessage\": \"\", \"exceptionClass\": \"\", \"trace\": \"\", \"outcomeType\": 4}}, \"*\")"
          },
          "metadata": {}
        },
        {
          "output_type": "display_data",
          "data": {
            "text/plain": "Solution: \n- **optimizer** determines how we determine the numerical values that make up the model. So it can affect the resulting model and predictions\n- **loss** determines what goal we optimize when determining numerical values in the model. So it can affect the resulting model and predictions\n- **metrics** determines only what we print out while the model is being built, but it doesn't affect the model itself.\n\nYou may not understand all of this yet. That's totally fine for now.  It will become\nclearer in an upcoming lesson (called A Deeper Understanding of Deep Learning).",
            "text/markdown": "<span style=\"color:#33cc99\">Solution:</span> \n- **optimizer** determines how we determine the numerical values that make up the model. So it can affect the resulting model and predictions\n- **loss** determines what goal we optimize when determining numerical values in the model. So it can affect the resulting model and predictions\n- **metrics** determines only what we print out while the model is being built, but it doesn't affect the model itself.\n\nYou may not understand all of this yet. That's totally fine for now.  It will become\nclearer in an upcoming lesson (called A Deeper Understanding of Deep Learning).\n"
          },
          "metadata": {}
        }
      ]
    },
    {
      "metadata": {
        "_uuid": "9540047978fac90b106c64b280907a9feccf3e19"
      },
      "cell_type": "markdown",
      "source": "# 4) Fit Model\n\n**Your training data is in the directory `../input/dogs-gone-sideways/train`. The validation data is in `../input/dogs-gone-sideways/val`**. Use that information when setting up `train_generator` and `validation_generator`.\n\nYou have 220 images of training data and 217 of validation data.  For the training generator, we set a batch size of 10. Figure out the appropriate value of `steps_per_epoch` in your `fit_generator` call.\n\nFill in all the blanks (again marked as `____`).  Then run the cell of code.  Watch as your model trains the weights and the accuracy improves."
    },
    {
      "metadata": {
        "tags": [
          "raises-exception"
        ],
        "_uuid": "504e16e06404b34b148eaad34511c6e762bb6ea3",
        "trusted": true
      },
      "cell_type": "code",
      "source": "from tensorflow.keras.applications.resnet50 import preprocess_input\nfrom tensorflow.keras.preprocessing.image import ImageDataGenerator\n\nimage_size = 224\ndata_generator = ImageDataGenerator(preprocess_input)\n\ntrain_generator = data_generator.flow_from_directory(\n                                        directory='../input/dogs-gone-sideways/train',\n                                        target_size=(image_size, image_size),\n                                        batch_size=10,\n                                        class_mode='categorical')\n\nvalidation_generator = data_generator.flow_from_directory(\n                                        directory='../input/dogs-gone-sideways/val',\n                                        target_size=(image_size, image_size),\n                                        class_mode='categorical')\n\n# fit_stats below saves some statistics describing how model fitting went\n# the key role of the following line is how it changes my_new_model by fitting to data\nfit_stats = my_new_model.fit_generator(train_generator,\n                                       steps_per_epoch=3,\n                                       validation_data=validation_generator,\n                                       validation_steps=1)\n\nstep_4.check()",
      "execution_count": 12,
      "outputs": [
        {
          "output_type": "error",
          "ename": "FileNotFoundError",
          "evalue": "[Errno 2] No such file or directory: '../input/dogs-gone-sideways/train'",
          "traceback": [
            "\u001b[0;31m---------------------------------------------------------------------------\u001b[0m",
            "\u001b[0;31mFileNotFoundError\u001b[0m                         Traceback (most recent call last)",
            "\u001b[0;32m<ipython-input-12-9552d48bda4b>\u001b[0m in \u001b[0;36m<module>\u001b[0;34m()\u001b[0m\n\u001b[1;32m      9\u001b[0m                                         \u001b[0mtarget_size\u001b[0m\u001b[0;34m=\u001b[0m\u001b[0;34m(\u001b[0m\u001b[0mimage_size\u001b[0m\u001b[0;34m,\u001b[0m \u001b[0mimage_size\u001b[0m\u001b[0;34m)\u001b[0m\u001b[0;34m,\u001b[0m\u001b[0;34m\u001b[0m\u001b[0m\n\u001b[1;32m     10\u001b[0m                                         \u001b[0mbatch_size\u001b[0m\u001b[0;34m=\u001b[0m\u001b[0;36m10\u001b[0m\u001b[0;34m,\u001b[0m\u001b[0;34m\u001b[0m\u001b[0m\n\u001b[0;32m---> 11\u001b[0;31m                                         class_mode='categorical')\n\u001b[0m\u001b[1;32m     12\u001b[0m \u001b[0;34m\u001b[0m\u001b[0m\n\u001b[1;32m     13\u001b[0m validation_generator = data_generator.flow_from_directory(\n",
            "\u001b[0;32m/opt/conda/lib/python3.6/site-packages/keras_preprocessing/image.py\u001b[0m in \u001b[0;36mflow_from_directory\u001b[0;34m(self, directory, target_size, color_mode, classes, class_mode, batch_size, shuffle, seed, save_to_dir, save_prefix, save_format, follow_links, subset, interpolation)\u001b[0m\n\u001b[1;32m   1011\u001b[0m             \u001b[0mfollow_links\u001b[0m\u001b[0;34m=\u001b[0m\u001b[0mfollow_links\u001b[0m\u001b[0;34m,\u001b[0m\u001b[0;34m\u001b[0m\u001b[0m\n\u001b[1;32m   1012\u001b[0m             \u001b[0msubset\u001b[0m\u001b[0;34m=\u001b[0m\u001b[0msubset\u001b[0m\u001b[0;34m,\u001b[0m\u001b[0;34m\u001b[0m\u001b[0m\n\u001b[0;32m-> 1013\u001b[0;31m             interpolation=interpolation)\n\u001b[0m\u001b[1;32m   1014\u001b[0m \u001b[0;34m\u001b[0m\u001b[0m\n\u001b[1;32m   1015\u001b[0m     def flow_from_dataframe(self, dataframe, directory,\n",
            "\u001b[0;32m/opt/conda/lib/python3.6/site-packages/keras_preprocessing/image.py\u001b[0m in \u001b[0;36m__init__\u001b[0;34m(self, directory, image_data_generator, target_size, color_mode, classes, class_mode, batch_size, shuffle, seed, data_format, save_to_dir, save_prefix, save_format, follow_links, subset, interpolation, dtype)\u001b[0m\n\u001b[1;32m   1873\u001b[0m         \u001b[0;32mif\u001b[0m \u001b[0;32mnot\u001b[0m \u001b[0mclasses\u001b[0m\u001b[0;34m:\u001b[0m\u001b[0;34m\u001b[0m\u001b[0m\n\u001b[1;32m   1874\u001b[0m             \u001b[0mclasses\u001b[0m \u001b[0;34m=\u001b[0m \u001b[0;34m[\u001b[0m\u001b[0;34m]\u001b[0m\u001b[0;34m\u001b[0m\u001b[0m\n\u001b[0;32m-> 1875\u001b[0;31m             \u001b[0;32mfor\u001b[0m \u001b[0msubdir\u001b[0m \u001b[0;32min\u001b[0m \u001b[0msorted\u001b[0m\u001b[0;34m(\u001b[0m\u001b[0mos\u001b[0m\u001b[0;34m.\u001b[0m\u001b[0mlistdir\u001b[0m\u001b[0;34m(\u001b[0m\u001b[0mdirectory\u001b[0m\u001b[0;34m)\u001b[0m\u001b[0;34m)\u001b[0m\u001b[0;34m:\u001b[0m\u001b[0;34m\u001b[0m\u001b[0m\n\u001b[0m\u001b[1;32m   1876\u001b[0m                 \u001b[0;32mif\u001b[0m \u001b[0mos\u001b[0m\u001b[0;34m.\u001b[0m\u001b[0mpath\u001b[0m\u001b[0;34m.\u001b[0m\u001b[0misdir\u001b[0m\u001b[0;34m(\u001b[0m\u001b[0mos\u001b[0m\u001b[0;34m.\u001b[0m\u001b[0mpath\u001b[0m\u001b[0;34m.\u001b[0m\u001b[0mjoin\u001b[0m\u001b[0;34m(\u001b[0m\u001b[0mdirectory\u001b[0m\u001b[0;34m,\u001b[0m \u001b[0msubdir\u001b[0m\u001b[0;34m)\u001b[0m\u001b[0;34m)\u001b[0m\u001b[0;34m:\u001b[0m\u001b[0;34m\u001b[0m\u001b[0m\n\u001b[1;32m   1877\u001b[0m                     \u001b[0mclasses\u001b[0m\u001b[0;34m.\u001b[0m\u001b[0mappend\u001b[0m\u001b[0;34m(\u001b[0m\u001b[0msubdir\u001b[0m\u001b[0;34m)\u001b[0m\u001b[0;34m\u001b[0m\u001b[0m\n",
            "\u001b[0;31mFileNotFoundError\u001b[0m: [Errno 2] No such file or directory: '../input/dogs-gone-sideways/train'"
          ]
        }
      ]
    },
    {
      "metadata": {
        "_uuid": "e96ac971f1f08ec6e90995a6ff4ecb07908ea4b6",
        "trusted": true
      },
      "cell_type": "code",
      "source": "#step_4.solution()",
      "execution_count": 16,
      "outputs": []
    },
    {
      "metadata": {
        "_uuid": "f1bf3f211af3dadfd31b08ef5cd5763fcb2808f9"
      },
      "cell_type": "markdown",
      "source": "\nCan you tell from the results what fraction of the time your model was correct in the validation data? \n\nIn the next step, we'll see if we can improve on that.\n\n# Keep Going\nMove on to learn about **[data augmentation](https://www.kaggle.com/dansbecker/data-augmentation/)**.  It is a clever and easy way to improve your models. Then you'll apply data augmentation to this automatic image rotation problem.\n\n---\n**[Deep Learning Course Home Page](https://www.kaggle.com/learn/deep-learning)**\n"
    }
  ],
  "metadata": {
    "kernelspec": {
      "display_name": "Python 3",
      "language": "python",
      "name": "python3"
    },
    "language_info": {
      "name": "python",
      "version": "3.6.6",
      "mimetype": "text/x-python",
      "codemirror_mode": {
        "name": "ipython",
        "version": 3
      },
      "pygments_lexer": "ipython3",
      "nbconvert_exporter": "python",
      "file_extension": ".py"
    }
  },
  "nbformat": 4,
  "nbformat_minor": 1
}