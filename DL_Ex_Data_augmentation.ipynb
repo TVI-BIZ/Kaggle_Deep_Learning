{
  "cells": [
    {
      "metadata": {
        "_uuid": "10fc0464132023af3b8cebea305bd897cbb27faa"
      },
      "cell_type": "markdown",
      "source": "# Exercise Introduction\nWe will return to the automatic rotation problem you worked on in the previous exercise. But we'll add data augmentation to improve your model.\n\nThe model specification and compilation steps don't change when you start using data augmentation. The code you've already worked with for specifying and compiling a model is in the cell below.  Run it so you'll be ready to work on data augmentation."
    },
    {
      "metadata": {
        "_kg_hide-output": true,
        "_uuid": "5a35bc005b5e0969d9a511c0335763ec4247bfd8",
        "trusted": true
      },
      "cell_type": "code",
      "source": "from tensorflow.keras.applications import ResNet50\nfrom tensorflow.keras.models import Sequential\nfrom tensorflow.keras.layers import Dense, Flatten, GlobalAveragePooling2D\n\nnum_classes = 2\nresnet_weights_path = '../input/resnet50/resnet50_weights_tf_dim_ordering_tf_kernels_notop.h5'\n\nmy_new_model = Sequential()\nmy_new_model.add(ResNet50(include_top=False, pooling='avg', weights=resnet_weights_path))\nmy_new_model.add(Dense(num_classes, activation='softmax'))\n\nmy_new_model.layers[0].trainable = False\n\nmy_new_model.compile(optimizer='sgd', loss='categorical_crossentropy', metrics=['accuracy'])\n\n# Set up code checking\nfrom learntools.core import binder\nbinder.bind(globals())\nfrom learntools.deep_learning.exercise_5 import *\nprint(\"Setup Complete\")",
      "execution_count": null,
      "outputs": []
    },
    {
      "metadata": {
        "_uuid": "b5d49d57362b68a8d9560b9be1f7bad7c01876c1"
      },
      "cell_type": "markdown",
      "source": "# 1) Fit the Model Using Data Augmentation\n\nHere is some code to set up some ImageDataGenerators. Run it, and then answer the questions below about it."
    },
    {
      "metadata": {
        "_uuid": "f0aff57dd5c1872b4ddd7fed46c64b0093573e6b",
        "trusted": true
      },
      "cell_type": "code",
      "source": "from tensorflow.keras.applications.resnet50 import preprocess_input\nfrom tensorflow.keras.preprocessing.image import ImageDataGenerator\n\nimage_size = 224\n\n# Specify the values for all arguments to data_generator_with_aug.\ndata_generator_with_aug = ImageDataGenerator(preprocessing_function=preprocess_input,\n                                              horizontal_flip = True,\n                                              width_shift_range = 0.1,\n                                              height_shift_range = 0.1)\n            \ndata_generator_no_aug = ImageDataGenerator(preprocessing_function=preprocess_input)\n",
      "execution_count": 6,
      "outputs": []
    },
    {
      "metadata": {
        "_uuid": "38ac2365f4292a04f22825d27cdd9b23bf82d0d7"
      },
      "cell_type": "markdown",
      "source": "Why do we need both a generator with augmentation and a generator without augmentation? After thinking about it, check out the solution below."
    },
    {
      "metadata": {
        "_uuid": "cfd84b2aed73df125f370049c95808316bcb20e1",
        "trusted": true
      },
      "cell_type": "code",
      "source": "q_1.solution()",
      "execution_count": null,
      "outputs": []
    },
    {
      "metadata": {
        "_uuid": "9a4c718cfa35f17c6b0d6425aba407cda9821c75"
      },
      "cell_type": "markdown",
      "source": "# 2) Choosing Augmentation Types\nImageDataGenerator offers many types of data augmentation. For example, one argument is `rotation_range`. This rotates each image by a random amount that can be up to whatever value you specify.\n\nWould it be sensible to use automatic rotation for this problem?  Why or why not?"
    },
    {
      "metadata": {
        "_uuid": "8df175ae94bb44fe0a275f30f3d86fd136447795",
        "trusted": true
      },
      "cell_type": "code",
      "source": "q_2.solution()",
      "execution_count": 3,
      "outputs": [
        {
          "output_type": "display_data",
          "data": {
            "text/plain": "<IPython.core.display.Javascript object>",
            "application/javascript": "parent.postMessage({\"jupyterEvent\": \"custom.exercise_interaction\", \"data\": {\"interactionType\": 3, \"learnTutorialId\": 77, \"questionId\": \"2_RotationCriticism\", \"learnToolsVersion\": \"0.2.11\", \"valueTowardsCompletion\": 0.0, \"failureMessage\": \"\", \"exceptionClass\": \"\", \"trace\": \"\", \"outcomeType\": 4}}, \"*\")"
          },
          "metadata": {}
        },
        {
          "output_type": "display_data",
          "data": {
            "text/plain": "Solution: \nThe goal in this problem is to tell if an image is upright or sideways.  Rotating images\nmoderately might cause images that don't feel cleanly in either category.\n\nSince data augmentation affects images without touching the labels, a dramatic rotation\nwould mean some images are used for training with the wrong label (e.g. an image would be rotated\nsideways by the generator, and still have a label of being upright)",
            "text/markdown": "<span style=\"color:#33cc99\">Solution:</span> \nThe goal in this problem is to tell if an image is upright or sideways.  Rotating images\nmoderately might cause images that don't feel cleanly in either category.\n\nSince data augmentation affects images without touching the labels, a dramatic rotation\nwould mean some images are used for training with the wrong label (e.g. an image would be rotated\nsideways by the generator, and still have a label of being upright)\n"
          },
          "metadata": {}
        }
      ]
    },
    {
      "metadata": {
        "_uuid": "b07556bc93bf1c75d30d65074e7f509b70c5908d"
      },
      "cell_type": "markdown",
      "source": "# 3) Code\nFill in the missing pieces in the following code. We've supplied some boilerplate. You need to think about what ImageDataGenerator is used for each data source."
    },
    {
      "metadata": {
        "tags": [
          "raises-exception"
        ],
        "_uuid": "afa3425bdb9b212988210e5e3168b9dbff516d8c",
        "trusted": true
      },
      "cell_type": "code",
      "source": "# Specify which type of ImageDataGenerator above is to load in training data\ntrain_generator = data_generator_with_aug.flow_from_directory(\n        directory = '../input/dogs-gone-sideways/train',\n        target_size=(image_size, image_size),\n        batch_size=12,\n        class_mode='categorical')\n\n# Specify which type of ImageDataGenerator above is to load in validation data\nvalidation_generator = data_generator_no_aug.flow_from_directory(\n        directory = '../input/dogs-gone-sideways/val',\n        target_size=(image_size, image_size),\n        class_mode='categorical')\n\nmy_new_model.fit_generator(\n        train_generator, # if you don't know what argument goes first, try the hint\n        epochs = 3,\n        steps_per_epoch=19,\n        validation_data=validation_generator)\n\nq_3.check()",
      "execution_count": 7,
      "outputs": [
        {
          "output_type": "error",
          "ename": "FileNotFoundError",
          "evalue": "[Errno 2] No such file or directory: '../input/dogs-gone-sideways/train'",
          "traceback": [
            "\u001b[0;31m---------------------------------------------------------------------------\u001b[0m",
            "\u001b[0;31mFileNotFoundError\u001b[0m                         Traceback (most recent call last)",
            "\u001b[0;32m<ipython-input-7-d97706dac356>\u001b[0m in \u001b[0;36m<module>\u001b[0;34m()\u001b[0m\n\u001b[1;32m      4\u001b[0m         \u001b[0mtarget_size\u001b[0m\u001b[0;34m=\u001b[0m\u001b[0;34m(\u001b[0m\u001b[0mimage_size\u001b[0m\u001b[0;34m,\u001b[0m \u001b[0mimage_size\u001b[0m\u001b[0;34m)\u001b[0m\u001b[0;34m,\u001b[0m\u001b[0;34m\u001b[0m\u001b[0m\n\u001b[1;32m      5\u001b[0m         \u001b[0mbatch_size\u001b[0m\u001b[0;34m=\u001b[0m\u001b[0;36m12\u001b[0m\u001b[0;34m,\u001b[0m\u001b[0;34m\u001b[0m\u001b[0m\n\u001b[0;32m----> 6\u001b[0;31m         class_mode='categorical')\n\u001b[0m\u001b[1;32m      7\u001b[0m \u001b[0;34m\u001b[0m\u001b[0m\n\u001b[1;32m      8\u001b[0m \u001b[0;31m# Specify which type of ImageDataGenerator above is to load in validation data\u001b[0m\u001b[0;34m\u001b[0m\u001b[0;34m\u001b[0m\u001b[0m\n",
            "\u001b[0;32m/opt/conda/lib/python3.6/site-packages/keras_preprocessing/image.py\u001b[0m in \u001b[0;36mflow_from_directory\u001b[0;34m(self, directory, target_size, color_mode, classes, class_mode, batch_size, shuffle, seed, save_to_dir, save_prefix, save_format, follow_links, subset, interpolation)\u001b[0m\n\u001b[1;32m   1011\u001b[0m             \u001b[0mfollow_links\u001b[0m\u001b[0;34m=\u001b[0m\u001b[0mfollow_links\u001b[0m\u001b[0;34m,\u001b[0m\u001b[0;34m\u001b[0m\u001b[0m\n\u001b[1;32m   1012\u001b[0m             \u001b[0msubset\u001b[0m\u001b[0;34m=\u001b[0m\u001b[0msubset\u001b[0m\u001b[0;34m,\u001b[0m\u001b[0;34m\u001b[0m\u001b[0m\n\u001b[0;32m-> 1013\u001b[0;31m             interpolation=interpolation)\n\u001b[0m\u001b[1;32m   1014\u001b[0m \u001b[0;34m\u001b[0m\u001b[0m\n\u001b[1;32m   1015\u001b[0m     def flow_from_dataframe(self, dataframe, directory,\n",
            "\u001b[0;32m/opt/conda/lib/python3.6/site-packages/keras_preprocessing/image.py\u001b[0m in \u001b[0;36m__init__\u001b[0;34m(self, directory, image_data_generator, target_size, color_mode, classes, class_mode, batch_size, shuffle, seed, data_format, save_to_dir, save_prefix, save_format, follow_links, subset, interpolation, dtype)\u001b[0m\n\u001b[1;32m   1873\u001b[0m         \u001b[0;32mif\u001b[0m \u001b[0;32mnot\u001b[0m \u001b[0mclasses\u001b[0m\u001b[0;34m:\u001b[0m\u001b[0;34m\u001b[0m\u001b[0m\n\u001b[1;32m   1874\u001b[0m             \u001b[0mclasses\u001b[0m \u001b[0;34m=\u001b[0m \u001b[0;34m[\u001b[0m\u001b[0;34m]\u001b[0m\u001b[0;34m\u001b[0m\u001b[0m\n\u001b[0;32m-> 1875\u001b[0;31m             \u001b[0;32mfor\u001b[0m \u001b[0msubdir\u001b[0m \u001b[0;32min\u001b[0m \u001b[0msorted\u001b[0m\u001b[0;34m(\u001b[0m\u001b[0mos\u001b[0m\u001b[0;34m.\u001b[0m\u001b[0mlistdir\u001b[0m\u001b[0;34m(\u001b[0m\u001b[0mdirectory\u001b[0m\u001b[0;34m)\u001b[0m\u001b[0;34m)\u001b[0m\u001b[0;34m:\u001b[0m\u001b[0;34m\u001b[0m\u001b[0m\n\u001b[0m\u001b[1;32m   1876\u001b[0m                 \u001b[0;32mif\u001b[0m \u001b[0mos\u001b[0m\u001b[0;34m.\u001b[0m\u001b[0mpath\u001b[0m\u001b[0;34m.\u001b[0m\u001b[0misdir\u001b[0m\u001b[0;34m(\u001b[0m\u001b[0mos\u001b[0m\u001b[0;34m.\u001b[0m\u001b[0mpath\u001b[0m\u001b[0;34m.\u001b[0m\u001b[0mjoin\u001b[0m\u001b[0;34m(\u001b[0m\u001b[0mdirectory\u001b[0m\u001b[0;34m,\u001b[0m \u001b[0msubdir\u001b[0m\u001b[0;34m)\u001b[0m\u001b[0;34m)\u001b[0m\u001b[0;34m:\u001b[0m\u001b[0;34m\u001b[0m\u001b[0m\n\u001b[1;32m   1877\u001b[0m                     \u001b[0mclasses\u001b[0m\u001b[0;34m.\u001b[0m\u001b[0mappend\u001b[0m\u001b[0;34m(\u001b[0m\u001b[0msubdir\u001b[0m\u001b[0;34m)\u001b[0m\u001b[0;34m\u001b[0m\u001b[0m\n",
            "\u001b[0;31mFileNotFoundError\u001b[0m: [Errno 2] No such file or directory: '../input/dogs-gone-sideways/train'"
          ]
        }
      ]
    },
    {
      "metadata": {
        "_uuid": "22c8b05920281faba4afe12b0d7bb2ff388a65fa",
        "trusted": false
      },
      "cell_type": "code",
      "source": "#q_3.hint()\n# q_3.solution()",
      "execution_count": null,
      "outputs": []
    },
    {
      "metadata": {
        "_uuid": "801de2f724b0db963d60ca61a720e80ea53914da"
      },
      "cell_type": "markdown",
      "source": "# 4) Did Data Augmentation Help?\nHow could you test whether data augmentation improved your model accuracy?"
    },
    {
      "metadata": {
        "_uuid": "cc01c0092d762a8e3c45df2cb1d3fcf28165e80d",
        "trusted": true
      },
      "cell_type": "code",
      "source": "q_4.solution()",
      "execution_count": 8,
      "outputs": [
        {
          "output_type": "display_data",
          "data": {
            "text/plain": "<IPython.core.display.Javascript object>",
            "application/javascript": "parent.postMessage({\"jupyterEvent\": \"custom.exercise_interaction\", \"data\": {\"interactionType\": 3, \"learnTutorialId\": 77, \"questionId\": \"4_DidAugmentationHelp\", \"learnToolsVersion\": \"0.2.11\", \"valueTowardsCompletion\": 0.0, \"failureMessage\": \"\", \"exceptionClass\": \"\", \"trace\": \"\", \"outcomeType\": 4}}, \"*\")"
          },
          "metadata": {}
        },
        {
          "output_type": "display_data",
          "data": {
            "text/plain": "Solution: \nCreate `train_generator` usng `data_generator_no_aug` but don't\nchange other arguments to `train_generator`.\n\nRun the model and see the resuling accuracy. Compare this to\nthe accuracy you got when `train_generator` used augmentation.\n\nOur validation dataset is very small, so there's a little bit\nof luck or randomness in the exact score from any\nmodel run. Validation scores will be more reliable as you\nstart using larger datasets.",
            "text/markdown": "<span style=\"color:#33cc99\">Solution:</span> \nCreate `train_generator` usng `data_generator_no_aug` but don't\nchange other arguments to `train_generator`.\n\nRun the model and see the resuling accuracy. Compare this to\nthe accuracy you got when `train_generator` used augmentation.\n\nOur validation dataset is very small, so there's a little bit\nof luck or randomness in the exact score from any\nmodel run. Validation scores will be more reliable as you\nstart using larger datasets.\n"
          },
          "metadata": {}
        }
      ]
    },
    {
      "metadata": {
        "_uuid": "4253d3a54e97432172ebef13d14e7e825df84456"
      },
      "cell_type": "markdown",
      "source": "# Keep Going\nYou are ready for **[a deeper understanding of deep learning](https://www.kaggle.com/dansbecker/a-deeper-understanding-of-deep-learning/)**.\n\n---\n**[Deep Learning Course Home Page](https://www.kaggle.com/learn/deep-learning)**\n"
    }
  ],
  "metadata": {
    "kernelspec": {
      "display_name": "Python 3",
      "language": "python",
      "name": "python3"
    },
    "language_info": {
      "name": "python",
      "version": "3.6.6",
      "mimetype": "text/x-python",
      "codemirror_mode": {
        "name": "ipython",
        "version": 3
      },
      "pygments_lexer": "ipython3",
      "nbconvert_exporter": "python",
      "file_extension": ".py"
    }
  },
  "nbformat": 4,
  "nbformat_minor": 1
}